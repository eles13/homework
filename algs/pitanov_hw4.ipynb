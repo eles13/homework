{
 "cells": [
  {
   "cell_type": "markdown",
   "metadata": {},
   "source": [
    "# Алгоритмы интеллектуальной обработки больших объемов данных\n",
    "## Домашнее задание №4 - Алгоритмы кластеризации\n"
   ]
  },
  {
   "cell_type": "markdown",
   "metadata": {},
   "source": [
    "###### <hr\\>\n",
    "**Общая информация**\n",
    "\n",
    "**Срок сдачи:** 6 мая 2019, 06:00 <br\\>\n",
    "**Штраф за опоздание:** -2 балла после 06:00 6 мая, -4 балла после 06:00 13 мая, -6 баллов после 06:00 20 мая -8 баллов  после 06:00 27 мая\n",
    "\n",
    "\n",
    "Используйте данный Ipython Notebook при оформлении домашнего задания.\n",
    "<hr\\>"
   ]
  },
  {
   "cell_type": "markdown",
   "metadata": {},
   "source": [
    "**Из чего состоит задание:**\n",
    "\n",
    "###### Теоретические вопросы (2 балла)\n",
    "\n",
    "###### Реализация алгоритма кластеризации (5 баллов)\n",
    "\n",
    "###### Боевое применение (3 балла)\n",
    "\n",
    "\n"
   ]
  },
  {
   "cell_type": "markdown",
   "metadata": {},
   "source": [
    "**Штрафные баллы:**\n",
    "\n",
    "1. Невыполнение PEP8 -1 балл\n",
    "2. Отсутствие фамилии в имени скрипта (скрипт должен называться по аналогии со stroykova_hw4.ipynb) -1 балл\n",
    "3. Все строчки должны быть выполнены. Нужно, чтобы output команды можно было увидеть уже в git'е. В противном случае -1 балл\n",
    "4. При оформлении ДЗ нужно пользоваться данным файлом в качестве шаблона. Не нужно удалять и видоизменять написанный код и текст. В противном случае -1 балл"
   ]
  },
  {
   "cell_type": "code",
   "execution_count": 52,
   "metadata": {},
   "outputs": [
    {
     "name": "stdout",
     "output_type": "stream",
     "text": [
      "Populating the interactive namespace from numpy and matplotlib\n"
     ]
    }
   ],
   "source": [
    "import time\n",
    "import pandas as pd\n",
    "import pylab as pl\n",
    "import numpy as np\n",
    "import scipy.spatial as ss\n",
    "import sklearn.cluster as sc\n",
    "import sklearn.manifold as sm\n",
    "import sklearn.datasets as ds\n",
    "import sklearn.metrics as smt\n",
    "from sklearn.mixture import GaussianMixture\n",
    "from sklearn.cluster import AgglomerativeClustering\n",
    "import scipy.cluster.hierarchy as ch\n",
    "import matplotlib.pyplot as plt\n",
    "\n",
    "%matplotlib inline\n",
    "\n",
    "plt.style.use('ggplot')\n",
    "plt.rcParams['figure.figsize'] = (12,5)\n",
    "\n",
    "# Plotting config\n",
    "%pylab inline"
   ]
  },
  {
   "cell_type": "markdown",
   "metadata": {},
   "source": [
    "# Теоретическое введение\n"
   ]
  },
  {
   "cell_type": "markdown",
   "metadata": {},
   "source": [
    "Основная задача кластерного анализа — разбиение исходного набора объектов на группы (кластеры) таким образом, чтобы объекты в группе были похожи друг на друга, а объекты из разных групп - отличались. \n",
    "\n",
    "В этой работе мы будем реализовывать агломеративную кластеризацию. "
   ]
  },
  {
   "cell_type": "markdown",
   "metadata": {
    "collapsed": true
   },
   "source": [
    "## Агломеративная кластеризация"
   ]
  },
  {
   "cell_type": "markdown",
   "metadata": {},
   "source": [
    "Иерархические алгоритмы кластеризации строят на выборке систему вложенных разбиений.  Наиболее часто испоьзуемые иерархические алгоритмы - агломеративные алгоритмы, которые строят ирархию по восходящей, то есть от момента, когда все элементы являются отдельными кластерами, до того момента, пока вся выборка не станет одним кластером."
   ]
  },
  {
   "cell_type": "markdown",
   "metadata": {},
   "source": [
    "Сам алгоритм описать можно примерно так:\n",
    "\n",
    "* начинаем с ситуации, когда каждый объект - отдельный кластер\n",
    "* на каждом шаге совмещаем два наиболее близких кластера\n",
    "* останавливаемся, когда получаем требуемое количество или единственный кластер"
   ]
  },
  {
   "cell_type": "markdown",
   "metadata": {},
   "source": [
    "\n",
    "В данной работе Вам предлагается реализовать три варианта расстояний между кластерами, по которым Вы определяете пару для слияния: \n",
    "* Single linkage\n",
    "$$ d_{min}(C_i, C_j) = \\min_{\\mathbf{x} \\in C_i, \\mathbf{x}' \\in C_j} \\|\\mathbf{x} -\\mathbf{x}' \\| $$\n",
    "\n",
    "* Complete linkage\n",
    "$$ d_{max}(C_i, C_j) = \\max_{\\mathbf{x} \\in C_i, \\mathbf{x}' \\in C_j} \\|\\mathbf{x} -\\mathbf{x}' \\| $$\n",
    "\n",
    "* Average linkage\n",
    "$$ d_{avg}(C_i, C_j) = \\frac{1}{n_i n_j}\\sum_{\\mathbf{x} \\in C_i}\\sum_{\\mathbf{x}' \\in C_j} \\|\\mathbf{x} -\\mathbf{x}' \\| $$\n",
    "\n",
    "Как считать расстояние $\\|\\mathbf{x} -\\mathbf{x}' \\|$ между объектами Вы должны выбрать сами.  Вы должны четко понимать, что выбор расстояния между объектами - самое важное в такого рода алгоритмах. Передавайте название расстояния в конструктор класса, а потом, в зависимости от названия, применяете ту или иную функцию для подсчета расстояния. \n",
    "\n"
   ]
  },
  {
   "cell_type": "markdown",
   "metadata": {},
   "source": [
    "Для того, чтобы на втором этапе нам не пересчитывать заново расстояния между всеми парами кластеров, можно использовать Формулы Ланса-Вильямса, которые позволяют посчитать расстояние между кластерами после объединения, используя только расстояния между кластерами до объедения.  Таким образом, достаточно будет посчитать расстояния только между всеми одноэлементными кластерами (первый этап), а затем пересчитывать расстояния при их объединении через \n",
    "формулы Ланса-Вильямса. \n",
    "\n",
    "Общая  формула выглядит так:\n",
    "$$ d(C_i \\cup C_j, C_k) = a_i \\cdot d(C_i, C_k) + a_j \\cdot d(C_j, C_k) + b \\cdot d(C_i, C_j) + c \\cdot |d(C_i, C_k) - d(C_j, C_k)|$$\n",
    "\n",
    "Можно показать, что все относительно разумные кластерные расстояния можно описать данной формулой. \n",
    "\n",
    "Для интересущих нас linkage:\n",
    "\n",
    "* single-linkage       $a_i = \\frac{1}{2}, a_j =  \\frac{1}{2}, b = 0, c =  - \\frac{1}{2} $\n",
    "\n",
    "* complete-linkage     $a_i = \\frac{1}{2}, a_j =  \\frac{1}{2}, b = 0, c =   \\frac{1}{2} $\n",
    "\n",
    "* average-linkage       $a_i = \\frac{|C_i|}{|C_i \\cup C_j|}, a_j =  \\frac{|C_j|}{|C_i \\cup C_j|}, b = 0, c = 0 $\n",
    "\n"
   ]
  },
  {
   "cell_type": "markdown",
   "metadata": {},
   "source": [
    "# Теоретические вопросы (2 балла)\n",
    "В этой части Вам будут предложены теоретичские вопросы и задачи по теме. Вы, конечно, можете списать их у своего товарища или найти решение в интернете, но учтите, что они обязательно войдут в теоретический коллоквиум. Лучше разобраться в теме сейчас и успешно ответить на коллоквиуме, чем списать, не разобравшись в материале, и быть терзаемым совестью. \n",
    "\n",
    "\n",
    "Формулы надо оформлять в формате **LaTeX**."
   ]
  },
  {
   "cell_type": "markdown",
   "metadata": {},
   "source": [
    "Задача 1. Сходимость kmeans.\n",
    "\n",
    "Метод kmeans является частным случаем EM алгоритма и наиболее простым в обосновании сходимости. Докажите, что kmeans всегда сходится, и итераций не будет превышать $k^N$, где $k$ $-$ число кластеров, $N$ $-$ число объектов\n",
    "\n",
    "Подсказка: Вам стоит рассмотреть функционал, который минимизирует алгоритм, и подумать, как он изменяется на E шаге и на M шаге.\n",
    "\n"
   ]
  },
  {
   "cell_type": "markdown",
   "metadata": {},
   "source": [
    "Функционал\n",
    "$$ Q=\\sum_{n=1}^{N}\\sum_{k=1}^{K}r_{n,k}\\lVert x_n - \\mu_{k}\\rVert , Q \\ge 0, \\forall \\mu_{k}, r_{n,k}\\\\ $$\n",
    "Далее шаги: \n",
    "$$ Е:Q_m' = \\min_{r_{n, k}}{Q_m}, Q_m' \\le Q_m  $$ \n",
    "$$ М:Q_{m+1} = \\min_{\\mu}{Q_m'}, Q_{m+1} \\le Q_m' \\le Q_{m} $$\n",
    "Последовательность $Q_m$ сходится по теореме об ограниченной монотонной последовательности\n",
    "По набору $r_{n, k}$ единственно можно опредлить минимальное значение функционала после шагов. Если наборы $r_{n,k}$ совпали на двух последовательных итерациях, значит функционал сошелся.$\\forall{n}   \\,   \\exists$ k наборов $r_{n,k}$, количество всевозможных комбинаций наборов - $k^N$, а число итераций не превосходит этого количества."
   ]
  },
  {
   "cell_type": "markdown",
   "metadata": {},
   "source": [
    "Задача 2. Сходимость EM.\n",
    "\n",
    "Разобравшись со сходимостью kmeans, можно догадаться и до ответа про EM алгоритм.\n",
    "\n",
    "При каком условии на правдоподобие системы EM алгоритм будет  сходиться?\n",
    "\n"
   ]
  },
  {
   "cell_type": "markdown",
   "metadata": {},
   "source": [
    "Если функция правдоподобия ограниченна сверху."
   ]
  },
  {
   "cell_type": "markdown",
   "metadata": {},
   "source": [
    "Задача 3. Формулы Ланса-Вильямса.\n",
    "\n",
    "Формулы Ланса-Вильямса крайне удобны для быстрого пересчта расстояний в агломеративной кластеризации. Давайте докажем  формулы для single и complete linkage. \n",
    "\n",
    "Докажите, что:\n",
    "\n",
    "$d_{\\min}(U \\cup V, S) = \\frac{1}{2} d_{\\min}(U, S) + \\frac{1}{2} d_{\\min}(V, S)  - \\frac{1}{2} | d_{\\min}(U, S) - d_{\\min}(V, S) |  $\n",
    "\n",
    "\n",
    "$d_{\\max}(U \\cup V, S) = \\frac{1}{2} d_{\\max}(U, S) + \\frac{1}{2} d_{\\max}(V, S)  + \\frac{1}{2} | d_{\\max}(U, S) - d_{\\max}(V, S) |  $\n",
    "\n",
    "\n"
   ]
  },
  {
   "cell_type": "markdown",
   "metadata": {},
   "source": [
    "$$\\frac{1}{2} d_{\\min}(U, S) + \\frac{1}{2} d_{\\min}(V, S)  - \\frac{1}{2} | d_{\\min}(U, S) - d_{\\min}(V, S) |  =\n",
    "\\min_{V \\cup U}(d_{\\min}(V, S), d_{\\min}(U, S))=\n",
    "d_{\\min}(U \\cup V, S)$$\n",
    "\n",
    "$$\\frac{1}{2} d_{\\max}(U, S) + \\frac{1}{2} d_{\\max}(V, S)  + \\frac{1}{2} | d_{\\max}(U, S) - d_{\\max}(V, S) |=\n",
    "\\max_{V \\cup U}(d_{\\max}(V, S), d_{\\max}(U, S))=\n",
    "d_{\\max}(U \\cup V, S)$$"
   ]
  },
  {
   "cell_type": "markdown",
   "metadata": {},
   "source": [
    "# Реализация алгоритма кластеризации  (5 баллов)"
   ]
  },
  {
   "cell_type": "markdown",
   "metadata": {},
   "source": [
    "Алгоритм кластеризации должен удовлетворять следующему интерфейсу. Конструктор принимает набор параметров, необходимых для работы алгоритма кластеризации. Метод `fit` подсчитывает параметры модели и возвращает `self`. Метод `predict` возвращает вектор с индексами кластеров для поданных в него объектов `x`. "
   ]
  },
  {
   "cell_type": "code",
   "execution_count": 60,
   "metadata": {},
   "outputs": [],
   "source": [
    "from sklearn.base import BaseEstimator, ClusterMixin\n",
    "from copy import deepcopy\n",
    "\n",
    "class Clustering(BaseEstimator, ClusterMixin):\n",
    "    \"\"\"\n",
    "    Implement clustering algorithm according \n",
    "    \"\"\"\n",
    "    \n",
    "    def __init__(self, distance='euclidean', linkage='single', n_clusters=2):\n",
    "        \"\"\"\n",
    "        metric - string with name of metric, for example, euclidean\n",
    "        Please add necessary algoritm parameters to class constructor.\n",
    "        \"\"\"\n",
    "        self.linkage = linkage\n",
    "        if linkage == 'single':\n",
    "            self.a_i = 0.5\n",
    "            self.a_j = 0.5\n",
    "            self.c = -0.5\n",
    "        elif linkage == 'complete':\n",
    "            self.a_i = 0.5\n",
    "            self.a_j = 0.5\n",
    "            self.c = 0.5\n",
    "        elif linkage == 'average':\n",
    "            self.c = 0\n",
    "        self.distance = distance\n",
    "        self.n_clusters = n_clusters\n",
    "        return\n",
    "        \n",
    "    def fit_predict(self, x):\n",
    "        \"\"\"\n",
    "        Use data matrix x to compute model parameters and predict clusters\n",
    "        \"\"\"\n",
    "        self.x_len = len(x)\n",
    "        if self.distance == 'euclidean':\n",
    "            dists = smt.pairwise_distances(x)\n",
    "        else:\n",
    "            dists = np.zeros((x.size, x.size))\n",
    "            for i in range(self.x_len):\n",
    "                for j in range(self.x_len):\n",
    "                    dists[i][j] = self.distance(x[i], x[j])\n",
    "        self.clusters=[[i] for i in range(self.x_len)]\n",
    "        for i in range(dists.shape[0]):\n",
    "            dists[i][i] = np.inf\n",
    "        #self.cl=copy.deepcopy(self.clusts)\n",
    "        copy1 = deepcopy(self.clusters)\n",
    "        copy2 = deepcopy(self.clusters)\n",
    "        result = []\n",
    "        for i in range(1,self.x_len):\n",
    "            #print(dists)\n",
    "            if i == self.x_len-self.n_clusters+1:\n",
    "                self.finalcopy = deepcopy(self.clusters)\n",
    "            ind = np.unravel_index(np.argmin(dists), dists.shape)\n",
    "            tomerge1 = self.clusters[ind[0]]\n",
    "            tomerge2 = self.clusters[ind[1]]\n",
    "            #print(self.clusters)\n",
    "            #print(tomerge1,'/////',tomerge2)\n",
    "            self.clusters.remove(tomerge1)\n",
    "            self.clusters.remove(tomerge2)\n",
    "            self.clusters.append(tomerge1+tomerge2)\n",
    "            copy1.append(tomerge1+tomerge2)\n",
    "            result.append([copy1.index(tomerge1), copy1.index(tomerge2), dists[ind[0],ind[1]], len(tomerge1) + len(tomerge2)])\n",
    "            newdists = np.ones(dists.shape[0])\n",
    "            newdists1 = np.ones(dists.shape[0]+1)\n",
    "            if self.linkage=='average':\n",
    "                self.a_i = len(tomerge1) / (len(tomerge1) + len(tomerge2))\n",
    "                self.a_j = len(tomerge2) / (len(tomerge1) + len(tomerge2))\n",
    "            for j in range(dists.shape[0]):\n",
    "                newdists[j] = self.a_i*dists[ind[0],j]+self.a_j*dists[ind[1],j]+self.c*abs(dists[ind[0],j]-dists[ind[1],j])\n",
    "                newdists1[j] = deepcopy(newdists[j])\n",
    "                if j in ind:\n",
    "                    newdists[j] = np.inf\n",
    "                    newdists1[j] = np.inf        \n",
    "            newdists=np.expand_dims(newdists, axis=1)\n",
    "            dists=np.concatenate((dists, newdists), 1)\n",
    "            newdists1[dists.shape[0]]=np.inf\n",
    "            newdists1=np.expand_dims(newdists1, axis=0)\n",
    "            #print(dists.shape)\n",
    "            #print(newdists1.shape)\n",
    "            dists=np.concatenate((dists, newdists1), 0)\n",
    "            dists=np.delete(dists,(ind[0],ind[1]), 0)\n",
    "            dists=np.delete(dists,(ind[0],ind[1]), 1)\n",
    "        self.clusters = copy1\n",
    "        self.result=np.array(result)\n",
    "        labels = np.ones(self.x_len)\n",
    "        for clnum, num in enumerate(self.finalcopy):\n",
    "            labels[num] = clnum\n",
    "        return labels\n",
    "    \n",
    "    def plot_dendrogram(self):\n",
    "        \"\"\"\n",
    "        Try to visualize our data\n",
    "        \"\"\"\n",
    "        ch.dendrogram(self.result)"
   ]
  },
  {
   "cell_type": "markdown",
   "metadata": {},
   "source": [
    "Сначала проверим реализованный алгоритм кластеризации на классическом наборе данных [Iris](http://www.wikiwand.com/en/Iris_flower_data_set). Загрузим данные (они включены в библиотеку sklearn) и посмотрим на то, как они выглядят в двух проекциях (для простоты используем 2 класса из 3)."
   ]
  },
  {
   "cell_type": "code",
   "execution_count": 6,
   "metadata": {},
   "outputs": [
    {
     "data": {
      "image/png": "[encoded data removed]",
      "text/plain": [
       "<Figure size 720x360 with 2 Axes>"
      ]
     },
     "metadata": {
      "needs_background": "light"
     },
     "output_type": "display_data"
    }
   ],
   "source": [
    "iris = ds.load_iris()\n",
    "x_iris = iris.data[:100]\n",
    "y_iris = iris.target[:100]\n",
    "\n",
    "pl.figure(figsize=(10, 5))\n",
    "\n",
    "pl.subplot(1, 2, 1)\n",
    "pl.scatter(x_iris[:, 0], x_iris[:, 1], c=y_iris, cmap=pl.cm.PuOr, lw=0, s=30)\n",
    "plt.xlabel('Sepal length')\n",
    "plt.ylabel('Sepal width')\n",
    "\n",
    "pl.subplot(1, 2, 2)\n",
    "pl.scatter(x_iris[:, 2], x_iris[:, 3], c=y_iris, cmap=pl.cm.PuOr, lw=0, s=30)\n",
    "plt.xlabel('Petal length')\n",
    "plt.ylabel('Petal width')\n",
    "pl.show()"
   ]
  },
  {
   "cell_type": "markdown",
   "metadata": {},
   "source": [
    "Видно, что классы разделяются, поэтому можно надеяться, что наш алгоритм \"найдет\" кластеры, соответствующие исходным классам. Результат работы реализованного алгоритма кластеризации предлагается сравнить с эталонной кластеризацией. Для этого предлагается изучить метрику ([adjusted rand score](http://scikit-learn.org/stable/modules/generated/sklearn.metrics.adjusted_rand_score.html)). В случае если значение этой метрики отличается от 1, предлагается поработать над улучшением реализации своего алгоритма."
   ]
  },
  {
   "cell_type": "code",
   "execution_count": 7,
   "metadata": {},
   "outputs": [
    {
     "name": "stdout",
     "output_type": "stream",
     "text": [
      " Sklearn AGGL score 1.0. Sklearn AGGL time 0.17452216148376465\n"
     ]
    }
   ],
   "source": [
    "# Давайте проверим, как справляются sklearn реализации\n",
    "sklearn_aggl = AgglomerativeClustering(n_clusters=2)\n",
    "aggl_t0 = time.time()\n",
    "aggl_pred = sklearn_aggl.fit_predict(x_iris)\n",
    "aggl_diff = time.time() - aggl_t0\n",
    "aggl_score = smt.adjusted_rand_score(y_iris, aggl_pred)\n",
    "print (\" Sklearn AGGL score {}. Sklearn AGGL time {}\".format(aggl_score, aggl_diff))"
   ]
  },
  {
   "cell_type": "code",
   "execution_count": 59,
   "metadata": {},
   "outputs": [
    {
     "name": "stderr",
     "output_type": "stream",
     "text": [
      "D:\\Anaconda\\lib\\site-packages\\ipykernel_launcher.py:68: RuntimeWarning: invalid value encountered in double_scalars\n"
     ]
    },
    {
     "name": "stdout",
     "output_type": "stream",
     "text": [
      "Our AGGL score 1.0. Our AGGL time 0.04000520706176758\n"
     ]
    },
    {
     "data": {
      "image/png": "[encoded data removed]",
      "text/plain": [
       "<Figure size 432x288 with 1 Axes>"
      ]
     },
     "metadata": {
      "needs_background": "light"
     },
     "output_type": "display_data"
    }
   ],
   "source": [
    "# Здесь предскажем кластера, посчитаем метрику кластеризации и время работы, сравним со склерном\n",
    "сustum_aggl = Clustering()\n",
    "aggl_t0 = time.time()\n",
    "aggl_pred = сustum_aggl.fit_predict(x_iris)\n",
    "aggl_diff = time.time() - aggl_t0\n",
    "aggl_score = smt.adjusted_rand_score(y_iris, aggl_pred)\n",
    "print (\"Our AGGL score {}. Our AGGL time {}\".format(aggl_score, aggl_diff))\n",
    "сustum_aggl.plot_dendrogram()"
   ]
  },
  {
   "cell_type": "markdown",
   "metadata": {
    "collapsed": true
   },
   "source": [
    "# Боевое применение (3  балла)\n"
   ]
  },
  {
   "cell_type": "markdown",
   "metadata": {
    "collapsed": true
   },
   "source": [
    "Алгоритмы кластеризации прекрасны тем, что они позволяют быстро понять, как устроены наши данные. Давайте применим Ваш алгоритм для нашего конкурса!"
   ]
  },
  {
   "cell_type": "markdown",
   "metadata": {},
   "source": [
    "Будем рассматривать каждую группу независимо от других групп. На каждой группе применим наш алгоритм и отрисуем денденограмму. По результатам кластерного анализа, Вам нужно ответить на следующие вопросы:\n",
    "\n",
    "1) Можно ли по дендонаграмме (или по другим результатам кластеризации) сказать, где в группе аномалии? Каким образом?\n",
    "\n",
    "2) Какое расстояние лучше использовать между заголовками страниц для кластеризации? Как еще учесть другую информацию о странице в расстоянии?\n",
    "\n",
    "2) Какое качество f1_score Вы смогли получить на обучающем множестве методами кластеризации? (валидацию можете не делать, если таргет не используете)\n",
    "\n",
    "4) Как можно результат кластеризации затем использовать для  финальной модели обучения с учителем?"
   ]
  },
  {
   "cell_type": "markdown",
   "metadata": {},
   "source": [
    "Подсказка: самое важное - выбрать расстояние между заголовками. Самый простой вариант:  процент различных слов в двух заголовках. В семинаре мы рассматривали более сложный вариант, но Вы сможете придумать лучше. "
   ]
  },
  {
   "cell_type": "code",
   "execution_count": 62,
   "metadata": {},
   "outputs": [
    {
     "name": "stdout",
     "output_type": "stream",
     "text": [
      "28026\n"
     ]
    }
   ],
   "source": [
    "doc_to_title = {}\n",
    "with open('docs_titles.tsv',encoding = 'utf-8') as f:\n",
    "    for num_line, line in enumerate(f):\n",
    "        if num_line == 0:\n",
    "            continue\n",
    "        data = line.strip().split('\\t', 1)\n",
    "        doc_id = int(data[0])\n",
    "        if len(data) == 1:\n",
    "            title = ''\n",
    "        else:\n",
    "            title = data[1]\n",
    "        doc_to_title[doc_id] = title\n",
    "print(len(doc_to_title))"
   ]
  },
  {
   "cell_type": "code",
   "execution_count": 63,
   "metadata": {},
   "outputs": [],
   "source": [
    "train_data = pd.read_csv('train_groups.csv')\n",
    "traingroups_titledata = {}\n",
    "for i in range(len(train_data)):\n",
    "    new_doc = train_data.iloc[i]\n",
    "    doc_group = new_doc['group_id']\n",
    "    doc_id = new_doc['doc_id']\n",
    "    target = new_doc['target']\n",
    "    title = doc_to_title[doc_id]\n",
    "    if doc_group not in traingroups_titledata:\n",
    "        traingroups_titledata[doc_group] = []\n",
    "    traingroups_titledata[doc_group].append((doc_id, title, target))"
   ]
  },
  {
   "cell_type": "markdown",
   "metadata": {},
   "source": [
    "Кластеризацию проводите в каждой группе отдельно, то есть изучайте, можно ли в группе  найти подкластер выбросов\n",
    "\n",
    "Документы можно представлять например словами из тайтла\n",
    "\n",
    "Главное подобрать хорошую функцию расстояния между документами\n",
    "\n",
    "Удачи! Все получится!"
   ]
  },
  {
   "cell_type": "markdown",
   "metadata": {},
   "source": [
    "Замечание: в кластеризации можно использовать все данные, то есть трейн + тест, чтобы находить больше закономерностей "
   ]
  },
  {
   "cell_type": "code",
   "execution_count": 71,
   "metadata": {},
   "outputs": [
    {
     "name": "stderr",
     "output_type": "stream",
     "text": [
      "D:\\Anaconda\\lib\\site-packages\\ipykernel_launcher.py:68: RuntimeWarning: invalid value encountered in double_scalars\n",
      "D:\\Anaconda\\lib\\site-packages\\ipykernel_launcher.py:68: RuntimeWarning: invalid value encountered in double_scalars\n",
      "D:\\Anaconda\\lib\\site-packages\\ipykernel_launcher.py:68: RuntimeWarning: invalid value encountered in double_scalars\n",
      "D:\\Anaconda\\lib\\site-packages\\ipykernel_launcher.py:68: RuntimeWarning: invalid value encountered in double_scalars\n",
      "D:\\Anaconda\\lib\\site-packages\\ipykernel_launcher.py:68: RuntimeWarning: invalid value encountered in double_scalars\n",
      "D:\\Anaconda\\lib\\site-packages\\ipykernel_launcher.py:68: RuntimeWarning: invalid value encountered in double_scalars\n",
      "D:\\Anaconda\\lib\\site-packages\\ipykernel_launcher.py:68: RuntimeWarning: invalid value encountered in double_scalars\n",
      "D:\\Anaconda\\lib\\site-packages\\ipykernel_launcher.py:68: RuntimeWarning: invalid value encountered in double_scalars\n",
      "D:\\Anaconda\\lib\\site-packages\\ipykernel_launcher.py:68: RuntimeWarning: invalid value encountered in double_scalars\n",
      "D:\\Anaconda\\lib\\site-packages\\ipykernel_launcher.py:68: RuntimeWarning: invalid value encountered in double_scalars\n",
      "D:\\Anaconda\\lib\\site-packages\\ipykernel_launcher.py:68: RuntimeWarning: invalid value encountered in double_scalars\n",
      "D:\\Anaconda\\lib\\site-packages\\ipykernel_launcher.py:68: RuntimeWarning: invalid value encountered in double_scalars\n",
      "D:\\Anaconda\\lib\\site-packages\\ipykernel_launcher.py:68: RuntimeWarning: invalid value encountered in double_scalars\n",
      "D:\\Anaconda\\lib\\site-packages\\ipykernel_launcher.py:68: RuntimeWarning: invalid value encountered in double_scalars\n",
      "D:\\Anaconda\\lib\\site-packages\\ipykernel_launcher.py:68: RuntimeWarning: invalid value encountered in double_scalars\n",
      "D:\\Anaconda\\lib\\site-packages\\ipykernel_launcher.py:68: RuntimeWarning: invalid value encountered in double_scalars\n",
      "D:\\Anaconda\\lib\\site-packages\\ipykernel_launcher.py:68: RuntimeWarning: invalid value encountered in double_scalars\n",
      "D:\\Anaconda\\lib\\site-packages\\ipykernel_launcher.py:68: RuntimeWarning: invalid value encountered in double_scalars\n",
      "D:\\Anaconda\\lib\\site-packages\\ipykernel_launcher.py:68: RuntimeWarning: invalid value encountered in double_scalars\n",
      "D:\\Anaconda\\lib\\site-packages\\ipykernel_launcher.py:68: RuntimeWarning: invalid value encountered in double_scalars\n",
      "D:\\Anaconda\\lib\\site-packages\\ipykernel_launcher.py:68: RuntimeWarning: invalid value encountered in double_scalars\n",
      "D:\\Anaconda\\lib\\site-packages\\ipykernel_launcher.py:68: RuntimeWarning: invalid value encountered in double_scalars\n",
      "D:\\Anaconda\\lib\\site-packages\\ipykernel_launcher.py:68: RuntimeWarning: invalid value encountered in double_scalars\n",
      "D:\\Anaconda\\lib\\site-packages\\ipykernel_launcher.py:68: RuntimeWarning: invalid value encountered in double_scalars\n",
      "D:\\Anaconda\\lib\\site-packages\\ipykernel_launcher.py:68: RuntimeWarning: invalid value encountered in double_scalars\n",
      "D:\\Anaconda\\lib\\site-packages\\ipykernel_launcher.py:68: RuntimeWarning: invalid value encountered in double_scalars\n",
      "D:\\Anaconda\\lib\\site-packages\\ipykernel_launcher.py:68: RuntimeWarning: invalid value encountered in double_scalars\n",
      "D:\\Anaconda\\lib\\site-packages\\ipykernel_launcher.py:68: RuntimeWarning: invalid value encountered in double_scalars\n",
      "D:\\Anaconda\\lib\\site-packages\\ipykernel_launcher.py:68: RuntimeWarning: invalid value encountered in double_scalars\n",
      "D:\\Anaconda\\lib\\site-packages\\ipykernel_launcher.py:68: RuntimeWarning: invalid value encountered in double_scalars\n",
      "D:\\Anaconda\\lib\\site-packages\\ipykernel_launcher.py:68: RuntimeWarning: invalid value encountered in double_scalars\n",
      "D:\\Anaconda\\lib\\site-packages\\ipykernel_launcher.py:68: RuntimeWarning: invalid value encountered in double_scalars\n",
      "D:\\Anaconda\\lib\\site-packages\\ipykernel_launcher.py:68: RuntimeWarning: invalid value encountered in double_scalars\n",
      "D:\\Anaconda\\lib\\site-packages\\ipykernel_launcher.py:68: RuntimeWarning: invalid value encountered in double_scalars\n",
      "D:\\Anaconda\\lib\\site-packages\\ipykernel_launcher.py:68: RuntimeWarning: invalid value encountered in double_scalars\n",
      "D:\\Anaconda\\lib\\site-packages\\ipykernel_launcher.py:68: RuntimeWarning: invalid value encountered in double_scalars\n",
      "D:\\Anaconda\\lib\\site-packages\\ipykernel_launcher.py:68: RuntimeWarning: invalid value encountered in double_scalars\n",
      "D:\\Anaconda\\lib\\site-packages\\ipykernel_launcher.py:68: RuntimeWarning: invalid value encountered in double_scalars\n",
      "D:\\Anaconda\\lib\\site-packages\\ipykernel_launcher.py:68: RuntimeWarning: invalid value encountered in double_scalars\n",
      "D:\\Anaconda\\lib\\site-packages\\ipykernel_launcher.py:68: RuntimeWarning: invalid value encountered in double_scalars\n",
      "D:\\Anaconda\\lib\\site-packages\\ipykernel_launcher.py:68: RuntimeWarning: invalid value encountered in double_scalars\n",
      "D:\\Anaconda\\lib\\site-packages\\ipykernel_launcher.py:68: RuntimeWarning: invalid value encountered in double_scalars\n",
      "D:\\Anaconda\\lib\\site-packages\\ipykernel_launcher.py:68: RuntimeWarning: invalid value encountered in double_scalars\n",
      "D:\\Anaconda\\lib\\site-packages\\ipykernel_launcher.py:68: RuntimeWarning: invalid value encountered in double_scalars\n",
      "D:\\Anaconda\\lib\\site-packages\\ipykernel_launcher.py:68: RuntimeWarning: invalid value encountered in double_scalars\n",
      "D:\\Anaconda\\lib\\site-packages\\ipykernel_launcher.py:68: RuntimeWarning: invalid value encountered in double_scalars\n",
      "D:\\Anaconda\\lib\\site-packages\\ipykernel_launcher.py:68: RuntimeWarning: invalid value encountered in double_scalars\n",
      "D:\\Anaconda\\lib\\site-packages\\ipykernel_launcher.py:68: RuntimeWarning: invalid value encountered in double_scalars\n",
      "D:\\Anaconda\\lib\\site-packages\\ipykernel_launcher.py:68: RuntimeWarning: invalid value encountered in double_scalars\n",
      "D:\\Anaconda\\lib\\site-packages\\ipykernel_launcher.py:68: RuntimeWarning: invalid value encountered in double_scalars\n",
      "D:\\Anaconda\\lib\\site-packages\\ipykernel_launcher.py:68: RuntimeWarning: invalid value encountered in double_scalars\n",
      "D:\\Anaconda\\lib\\site-packages\\ipykernel_launcher.py:68: RuntimeWarning: invalid value encountered in double_scalars\n",
      "D:\\Anaconda\\lib\\site-packages\\ipykernel_launcher.py:68: RuntimeWarning: invalid value encountered in double_scalars\n",
      "D:\\Anaconda\\lib\\site-packages\\ipykernel_launcher.py:68: RuntimeWarning: invalid value encountered in double_scalars\n",
      "D:\\Anaconda\\lib\\site-packages\\ipykernel_launcher.py:68: RuntimeWarning: invalid value encountered in double_scalars\n",
      "D:\\Anaconda\\lib\\site-packages\\ipykernel_launcher.py:68: RuntimeWarning: invalid value encountered in double_scalars\n",
      "D:\\Anaconda\\lib\\site-packages\\ipykernel_launcher.py:68: RuntimeWarning: invalid value encountered in double_scalars\n",
      "D:\\Anaconda\\lib\\site-packages\\ipykernel_launcher.py:68: RuntimeWarning: invalid value encountered in double_scalars\n",
      "D:\\Anaconda\\lib\\site-packages\\ipykernel_launcher.py:68: RuntimeWarning: invalid value encountered in double_scalars\n",
      "D:\\Anaconda\\lib\\site-packages\\ipykernel_launcher.py:68: RuntimeWarning: invalid value encountered in double_scalars\n",
      "D:\\Anaconda\\lib\\site-packages\\ipykernel_launcher.py:68: RuntimeWarning: invalid value encountered in double_scalars\n",
      "D:\\Anaconda\\lib\\site-packages\\ipykernel_launcher.py:68: RuntimeWarning: invalid value encountered in double_scalars\n",
      "D:\\Anaconda\\lib\\site-packages\\ipykernel_launcher.py:68: RuntimeWarning: invalid value encountered in double_scalars\n",
      "D:\\Anaconda\\lib\\site-packages\\ipykernel_launcher.py:68: RuntimeWarning: invalid value encountered in double_scalars\n",
      "D:\\Anaconda\\lib\\site-packages\\ipykernel_launcher.py:68: RuntimeWarning: invalid value encountered in double_scalars\n",
      "D:\\Anaconda\\lib\\site-packages\\ipykernel_launcher.py:68: RuntimeWarning: invalid value encountered in double_scalars\n",
      "D:\\Anaconda\\lib\\site-packages\\ipykernel_launcher.py:68: RuntimeWarning: invalid value encountered in double_scalars\n",
      "D:\\Anaconda\\lib\\site-packages\\ipykernel_launcher.py:68: RuntimeWarning: invalid value encountered in double_scalars\n",
      "D:\\Anaconda\\lib\\site-packages\\ipykernel_launcher.py:68: RuntimeWarning: invalid value encountered in double_scalars\n",
      "D:\\Anaconda\\lib\\site-packages\\ipykernel_launcher.py:68: RuntimeWarning: invalid value encountered in double_scalars\n",
      "D:\\Anaconda\\lib\\site-packages\\ipykernel_launcher.py:68: RuntimeWarning: invalid value encountered in double_scalars\n",
      "D:\\Anaconda\\lib\\site-packages\\ipykernel_launcher.py:68: RuntimeWarning: invalid value encountered in double_scalars\n",
      "D:\\Anaconda\\lib\\site-packages\\ipykernel_launcher.py:68: RuntimeWarning: invalid value encountered in double_scalars\n"
     ]
    },
    {
     "name": "stderr",
     "output_type": "stream",
     "text": [
      "D:\\Anaconda\\lib\\site-packages\\ipykernel_launcher.py:68: RuntimeWarning: invalid value encountered in double_scalars\n",
      "D:\\Anaconda\\lib\\site-packages\\ipykernel_launcher.py:68: RuntimeWarning: invalid value encountered in double_scalars\n",
      "D:\\Anaconda\\lib\\site-packages\\ipykernel_launcher.py:68: RuntimeWarning: invalid value encountered in double_scalars\n",
      "D:\\Anaconda\\lib\\site-packages\\ipykernel_launcher.py:68: RuntimeWarning: invalid value encountered in double_scalars\n",
      "D:\\Anaconda\\lib\\site-packages\\ipykernel_launcher.py:68: RuntimeWarning: invalid value encountered in double_scalars\n",
      "D:\\Anaconda\\lib\\site-packages\\ipykernel_launcher.py:68: RuntimeWarning: invalid value encountered in double_scalars\n",
      "D:\\Anaconda\\lib\\site-packages\\ipykernel_launcher.py:68: RuntimeWarning: invalid value encountered in double_scalars\n",
      "D:\\Anaconda\\lib\\site-packages\\ipykernel_launcher.py:68: RuntimeWarning: invalid value encountered in double_scalars\n",
      "D:\\Anaconda\\lib\\site-packages\\ipykernel_launcher.py:68: RuntimeWarning: invalid value encountered in double_scalars\n",
      "D:\\Anaconda\\lib\\site-packages\\ipykernel_launcher.py:68: RuntimeWarning: invalid value encountered in double_scalars\n",
      "D:\\Anaconda\\lib\\site-packages\\ipykernel_launcher.py:68: RuntimeWarning: invalid value encountered in double_scalars\n",
      "D:\\Anaconda\\lib\\site-packages\\ipykernel_launcher.py:68: RuntimeWarning: invalid value encountered in double_scalars\n",
      "D:\\Anaconda\\lib\\site-packages\\ipykernel_launcher.py:68: RuntimeWarning: invalid value encountered in double_scalars\n",
      "D:\\Anaconda\\lib\\site-packages\\ipykernel_launcher.py:68: RuntimeWarning: invalid value encountered in double_scalars\n",
      "D:\\Anaconda\\lib\\site-packages\\ipykernel_launcher.py:68: RuntimeWarning: invalid value encountered in double_scalars\n",
      "D:\\Anaconda\\lib\\site-packages\\ipykernel_launcher.py:68: RuntimeWarning: invalid value encountered in double_scalars\n",
      "D:\\Anaconda\\lib\\site-packages\\ipykernel_launcher.py:68: RuntimeWarning: invalid value encountered in double_scalars\n",
      "D:\\Anaconda\\lib\\site-packages\\ipykernel_launcher.py:68: RuntimeWarning: invalid value encountered in double_scalars\n",
      "D:\\Anaconda\\lib\\site-packages\\ipykernel_launcher.py:68: RuntimeWarning: invalid value encountered in double_scalars\n",
      "D:\\Anaconda\\lib\\site-packages\\ipykernel_launcher.py:68: RuntimeWarning: invalid value encountered in double_scalars\n",
      "D:\\Anaconda\\lib\\site-packages\\ipykernel_launcher.py:68: RuntimeWarning: invalid value encountered in double_scalars\n",
      "D:\\Anaconda\\lib\\site-packages\\ipykernel_launcher.py:68: RuntimeWarning: invalid value encountered in double_scalars\n",
      "D:\\Anaconda\\lib\\site-packages\\ipykernel_launcher.py:68: RuntimeWarning: invalid value encountered in double_scalars\n",
      "D:\\Anaconda\\lib\\site-packages\\ipykernel_launcher.py:68: RuntimeWarning: invalid value encountered in double_scalars\n",
      "D:\\Anaconda\\lib\\site-packages\\ipykernel_launcher.py:68: RuntimeWarning: invalid value encountered in double_scalars\n",
      "D:\\Anaconda\\lib\\site-packages\\ipykernel_launcher.py:68: RuntimeWarning: invalid value encountered in double_scalars\n",
      "D:\\Anaconda\\lib\\site-packages\\ipykernel_launcher.py:68: RuntimeWarning: invalid value encountered in double_scalars\n",
      "D:\\Anaconda\\lib\\site-packages\\ipykernel_launcher.py:68: RuntimeWarning: invalid value encountered in double_scalars\n",
      "D:\\Anaconda\\lib\\site-packages\\ipykernel_launcher.py:68: RuntimeWarning: invalid value encountered in double_scalars\n",
      "D:\\Anaconda\\lib\\site-packages\\ipykernel_launcher.py:68: RuntimeWarning: invalid value encountered in double_scalars\n",
      "D:\\Anaconda\\lib\\site-packages\\ipykernel_launcher.py:68: RuntimeWarning: invalid value encountered in double_scalars\n",
      "D:\\Anaconda\\lib\\site-packages\\ipykernel_launcher.py:68: RuntimeWarning: invalid value encountered in double_scalars\n",
      "D:\\Anaconda\\lib\\site-packages\\ipykernel_launcher.py:68: RuntimeWarning: invalid value encountered in double_scalars\n",
      "D:\\Anaconda\\lib\\site-packages\\ipykernel_launcher.py:68: RuntimeWarning: invalid value encountered in double_scalars\n",
      "D:\\Anaconda\\lib\\site-packages\\ipykernel_launcher.py:68: RuntimeWarning: invalid value encountered in double_scalars\n",
      "D:\\Anaconda\\lib\\site-packages\\ipykernel_launcher.py:68: RuntimeWarning: invalid value encountered in double_scalars\n",
      "D:\\Anaconda\\lib\\site-packages\\ipykernel_launcher.py:68: RuntimeWarning: invalid value encountered in double_scalars\n",
      "D:\\Anaconda\\lib\\site-packages\\ipykernel_launcher.py:68: RuntimeWarning: invalid value encountered in double_scalars\n",
      "D:\\Anaconda\\lib\\site-packages\\ipykernel_launcher.py:68: RuntimeWarning: invalid value encountered in double_scalars\n",
      "D:\\Anaconda\\lib\\site-packages\\ipykernel_launcher.py:68: RuntimeWarning: invalid value encountered in double_scalars\n",
      "D:\\Anaconda\\lib\\site-packages\\ipykernel_launcher.py:68: RuntimeWarning: invalid value encountered in double_scalars\n",
      "D:\\Anaconda\\lib\\site-packages\\ipykernel_launcher.py:68: RuntimeWarning: invalid value encountered in double_scalars\n",
      "D:\\Anaconda\\lib\\site-packages\\ipykernel_launcher.py:68: RuntimeWarning: invalid value encountered in double_scalars\n",
      "D:\\Anaconda\\lib\\site-packages\\ipykernel_launcher.py:68: RuntimeWarning: invalid value encountered in double_scalars\n",
      "D:\\Anaconda\\lib\\site-packages\\ipykernel_launcher.py:68: RuntimeWarning: invalid value encountered in double_scalars\n",
      "D:\\Anaconda\\lib\\site-packages\\ipykernel_launcher.py:68: RuntimeWarning: invalid value encountered in double_scalars\n",
      "D:\\Anaconda\\lib\\site-packages\\ipykernel_launcher.py:68: RuntimeWarning: invalid value encountered in double_scalars\n",
      "D:\\Anaconda\\lib\\site-packages\\ipykernel_launcher.py:68: RuntimeWarning: invalid value encountered in double_scalars\n",
      "D:\\Anaconda\\lib\\site-packages\\ipykernel_launcher.py:68: RuntimeWarning: invalid value encountered in double_scalars\n",
      "D:\\Anaconda\\lib\\site-packages\\ipykernel_launcher.py:68: RuntimeWarning: invalid value encountered in double_scalars\n",
      "D:\\Anaconda\\lib\\site-packages\\ipykernel_launcher.py:68: RuntimeWarning: invalid value encountered in double_scalars\n",
      "D:\\Anaconda\\lib\\site-packages\\ipykernel_launcher.py:68: RuntimeWarning: invalid value encountered in double_scalars\n",
      "D:\\Anaconda\\lib\\site-packages\\ipykernel_launcher.py:68: RuntimeWarning: invalid value encountered in double_scalars\n",
      "D:\\Anaconda\\lib\\site-packages\\ipykernel_launcher.py:68: RuntimeWarning: invalid value encountered in double_scalars\n",
      "D:\\Anaconda\\lib\\site-packages\\ipykernel_launcher.py:68: RuntimeWarning: invalid value encountered in double_scalars\n",
      "D:\\Anaconda\\lib\\site-packages\\ipykernel_launcher.py:68: RuntimeWarning: invalid value encountered in double_scalars\n"
     ]
    }
   ],
   "source": [
    "# Место для Вашего кластерного анализа\n",
    "model = Clustering(n_clusters=2)\n",
    "groups = []\n",
    "y_train = []\n",
    "y_predict = []\n",
    "for group in traingroups_titledata:\n",
    "    doc = traingroups_titledata[group]\n",
    "    X_train = []\n",
    "    for index, (doc_id, title, target_id) in enumerate(doc):\n",
    "        y_train.append(target_id)\n",
    "        groups.append(group)\n",
    "        distances = []\n",
    "        listwords = title.strip().split()\n",
    "        for i in range(0, len(doc)):\n",
    "            if index == i:\n",
    "                continue\n",
    "            doci, titlei, targeti = doc[i]\n",
    "            listwordsi = titlei.strip().split()\n",
    "            count = 0\n",
    "            looked = set()\n",
    "            for word in listwords:\n",
    "                if word in listwordsi and word not in looked:\n",
    "                    count+=1\n",
    "                    looked.add(word)               \n",
    "            distances.append(count)\n",
    "        X_train.append(sorted(distances, reverse=True))\n",
    "    y_predict.append(model.fit_predict(np.array(X_train)))"
   ]
  },
  {
   "cell_type": "code",
   "execution_count": 72,
   "metadata": {},
   "outputs": [],
   "source": [
    "from functools import reduce\n",
    "y_predict = reduce(lambda x,y: np.append(x, y), y_predict, np.array([]))"
   ]
  },
  {
   "cell_type": "code",
   "execution_count": 74,
   "metadata": {},
   "outputs": [],
   "source": [
    "y_base = reduce(lambda x,y: np.append(x, y), y_base, np.array([]))"
   ]
  },
  {
   "cell_type": "code",
   "execution_count": 76,
   "metadata": {},
   "outputs": [
    {
     "data": {
      "text/plain": [
       "0.4300557145008282"
      ]
     },
     "execution_count": 76,
     "metadata": {},
     "output_type": "execute_result"
    }
   ],
   "source": [
    "from sklearn.metrics import f1_score\n",
    "f1_score(y_train, y_predict)"
   ]
  },
  {
   "cell_type": "code",
   "execution_count": 77,
   "metadata": {},
   "outputs": [
    {
     "data": {
      "text/plain": [
       "0.32225063938618925"
      ]
     },
     "execution_count": 77,
     "metadata": {},
     "output_type": "execute_result"
    }
   ],
   "source": [
    "f1_score(y_train, y_base)"
   ]
  },
  {
   "cell_type": "markdown",
   "metadata": {
    "collapsed": true
   },
   "source": [
    "Если получилось найти выбросы с помощью кластеризации, то не забывайте использовать его в финальном решении. Помните - использование различных подходов к решению задачи всегда улучшает финального качество."
   ]
  },
  {
   "cell_type": "markdown",
   "metadata": {},
   "source": [
    "# Контрольные вопросы\n",
    "Постарайтесь максимально развернуто и честно ответить на вопросы. Они охватывают тему алгоритмов кластеризации и скорее нужны преподавателям, чтобы понимать, что именно Вы усвоили плохо. Надеюсь, они подскажут, что именно в теме Вы не понимаете или наоборот порадают, что Вы все знаете ^_^"
   ]
  },
  {
   "cell_type": "markdown",
   "metadata": {},
   "source": [
    "* Опишите, пожалуйста, для каких прикладных задач Вы бы стали использовать методы кластеризации?"
   ]
  },
  {
   "cell_type": "markdown",
   "metadata": {},
   "source": [
    "Определение выбросов, рекомендательные системы"
   ]
  },
  {
   "cell_type": "markdown",
   "metadata": {},
   "source": [
    "* Какие преимущества и недостатки Вы видите у следуюших алгоритмов кластеризации: kmeans, dbscan, агломеративная кластеризация?"
   ]
  },
  {
   "cell_type": "markdown",
   "metadata": {},
   "source": [
    "Аггломеративную нельзя дообучать и долгая, но можно остановить на любом количестве кластеров, можно находить выбросы\n",
    "ДБСкан хорошо находит выбросы, но долгий и нельзя дообучать.\n",
    "K-means быстрый, но плохо ищет выбросы"
   ]
  },
  {
   "cell_type": "markdown",
   "metadata": {},
   "source": [
    "* На лекции было показано, что EM алгоритм находит оценку максимального правдоподобия в задаче со сккрытыми переменными. Из курса мат. статистики Вы можете знать, оценка максимального правдоподобия \"оптимальная\" во многих смыслах. В каких же случаях тогда не следует применять метод максимального правдоподобия?"
   ]
  },
  {
   "cell_type": "markdown",
   "metadata": {},
   "source": [
    "Когда есть несмещенность?"
   ]
  },
  {
   "cell_type": "markdown",
   "metadata": {},
   "source": [
    "* Представьте, что у Вас есть набор текстовых документов, и Вы хотите разбить эти документы на тематики - новости, спорт, кулинария, кино и так далее. Размеченной выборки у Вас нет, только сами тексты документов. Какие алгоритмы и какие признаки Вы бы использовали для решения данной задачи?"
   ]
  },
  {
   "cell_type": "markdown",
   "metadata": {},
   "source": [
    "TFIDF, Кластеризация?"
   ]
  },
  {
   "cell_type": "markdown",
   "metadata": {},
   "source": [
    "* Теперь представьте, что небольшая часть Ваших текстов была размечена людьми, но большая часть так и осталась без таргета. Смогли ли бы Вы использовать эти данные для улучения качества кластеризации? (эта задача называется semi-supervised learning)"
   ]
  },
  {
   "cell_type": "markdown",
   "metadata": {},
   "source": [
    "Можно добавить эту информацию в модель в качестве признака"
   ]
  },
  {
   "cell_type": "markdown",
   "metadata": {},
   "source": [
    "Здесь Вы можете оставить отзыв о этой домашней работе или о всем курсе.   "
   ]
  },
  {
   "cell_type": "markdown",
   "metadata": {},
   "source": [
    "*** ВАШ ОТЗЫВ ЗДЕСЬ***"
   ]
  },
  {
   "cell_type": "code",
   "execution_count": null,
   "metadata": {
    "collapsed": true
   },
   "outputs": [],
   "source": []
  },
  {
   "cell_type": "code",
   "execution_count": null,
   "metadata": {
    "collapsed": true
   },
   "outputs": [],
   "source": []
  }
 ],
 "metadata": {
  "anaconda-cloud": {},
  "kernelspec": {
   "display_name": "Python 3",
   "language": "python",
   "name": "python3"
  },
  "language_info": {
   "codemirror_mode": {
    "name": "ipython",
    "version": 3
   },
   "file_extension": ".py",
   "mimetype": "text/x-python",
   "name": "python",
   "nbconvert_exporter": "python",
   "pygments_lexer": "ipython3",
   "version": "3.7.1"
  }
 },
 "nbformat": 4,
 "nbformat_minor": 1
}
