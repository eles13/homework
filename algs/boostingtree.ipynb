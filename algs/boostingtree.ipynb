{
 "cells": [
  {
   "cell_type": "code",
   "execution_count": 35,
   "metadata": {},
   "outputs": [],
   "source": [
    "import numpy as np\n",
    "import sklearn\n",
    "from sklearn.model_selection import train_test_split\n",
    "from sklearn.metrics import mean_squared_error\n",
    "from collections import deque\n",
    "from sklearn.tree import DecisionTreeRegressor\n",
    "from sklearn.ensemble import GradientBoostingRegressor\n",
    "from sklearn.linear_model import LinearRegression"
   ]
  },
  {
   "cell_type": "code",
   "execution_count": 36,
   "metadata": {},
   "outputs": [],
   "source": [
    "from sklearn.datasets import load_svmlight_file"
   ]
  },
  {
   "cell_type": "code",
   "execution_count": 37,
   "metadata": {},
   "outputs": [
    {
     "name": "stdout",
     "output_type": "stream",
     "text": [
      "train_x size (7200, 245), train_y size (7200,)\n",
      "test_x size (10050, 245), test_y size (10050,)\n"
     ]
    }
   ],
   "source": [
    "x_train, y_train = load_svmlight_file(\"./Regression dataset/reg.train.txt\")\n",
    "x_train = x_train.toarray()\n",
    "print(\"train_x size {}, train_y size {}\".format(x_train.shape, y_train.shape))\n",
    "\n",
    "x_test, y_test = load_svmlight_file(\"./Regression dataset/reg.test.txt\")\n",
    "x_test = x_test.toarray()\n",
    "print(\"test_x size {}, test_y size {}\".format(x_test.shape, y_test.shape))"
   ]
  },
  {
   "cell_type": "code",
   "execution_count": 38,
   "metadata": {},
   "outputs": [],
   "source": [
    "x_train_bst, x_train_lin, y_train_bst, y_train_lin = train_test_split(x_train, y_train, test_size = 0.2)"
   ]
  },
  {
   "cell_type": "code",
   "execution_count": 39,
   "metadata": {},
   "outputs": [
    {
     "data": {
      "text/plain": [
       "array([0.      , 0.      , 0.      , 0.      , 0.020218, 0.      ,\n",
       "       0.655606, 0.54098 , 0.16042 , 0.      , 0.709939, 0.      ,\n",
       "       0.73771 , 0.011765, 0.513726, 0.875   , 1.      , 0.988235,\n",
       "       0.      , 0.      ])"
      ]
     },
     "execution_count": 39,
     "metadata": {},
     "output_type": "execute_result"
    }
   ],
   "source": [
    "x_train_bst[0][:20]"
   ]
  },
  {
   "cell_type": "code",
   "execution_count": 40,
   "metadata": {},
   "outputs": [
    {
     "data": {
      "text/plain": [
       "array([2. , 0.5, 2. , 2. , 2. , 2. , 3. , 1. , 0. , 2. , 2. , 2. , 1. ,\n",
       "       1. , 0. , 0. , 2. , 0. , 1. , 1. ])"
      ]
     },
     "execution_count": 40,
     "metadata": {},
     "output_type": "execute_result"
    }
   ],
   "source": [
    "y_train_bst[:20]"
   ]
  },
  {
   "cell_type": "code",
   "execution_count": 97,
   "metadata": {},
   "outputs": [],
   "source": [
    "class MyDecisionTreeRegressor:\n",
    "    NON_LEAF = 'NON_LEAF'\n",
    "    LEAF = 'LEAF'\n",
    "\n",
    "    def __init__(self,\n",
    "                 min_samples_split=3,\n",
    "                 max_depth=3,\n",
    "                 min_impurity=0.1, recursion = True,\n",
    "                 max_log = False):\n",
    "\n",
    "        self.tree = dict()\n",
    "        self.min_samples_split = min_samples_split\n",
    "        self.max_depth = max_depth\n",
    "        self.min_impurity = min_impurity\n",
    "        self.recursion = recursion\n",
    "        self.leafctr = 0\n",
    "        self.leaves = dict()\n",
    "        self.max_log = max_log\n",
    "        \n",
    "    @staticmethod\n",
    "    def divide_items_(x, y, feat, thr):\n",
    "        left_mask = x[:, feat] > thr\n",
    "        right_mask = ~left_mask\n",
    "        return x[left_mask], x[right_mask], y[left_mask], y[right_mask]\n",
    "\n",
    "    def variance_(self,y):\n",
    "        n = y.shape[1]\n",
    "        ysq = y ** 2\n",
    "        sum_sl = (ysq[:, :n - 1]).cumsum(1)\n",
    "        sum_sr = ysq.sum(1)[:, None] - sum_sl\n",
    "        mean_sl = sum_sl / np.arange(1, n)\n",
    "        mean_sr = sum_sr / (n - np.arange(1, n))\n",
    "        sum_l = (y[:, :n - 1]).cumsum(1)\n",
    "        sum_r = y.sum(1)[:, None] - sum_l\n",
    "        mean_l = sum_l / np.arange(1, n)\n",
    "        mean_r = sum_r / (n - np.arange(1, n))\n",
    "        std_l = mean_sl - mean_l ** 2\n",
    "        std_r = mean_sr - mean_r ** 2\n",
    "        return std_l * (np.arange(1, n) / n) + std_r * ((n - np.arange(1, n)) / n)\n",
    "\n",
    "    def get_b_idx(self, x):\n",
    "        ind = np.argwhere(np.abs(np.diff(x, axis=0).T) > 1e-27)\n",
    "        b_idx = []\n",
    "        for i in range(x.shape[1]):\n",
    "            to_app = ind[ind[:, 0] == i][:, 1]\n",
    "            if to_app.shape[0] == 0:\n",
    "                to_app = np.array([float('+inf')])\n",
    "            b_idx.append(to_app)\n",
    "        return b_idx\n",
    "    def get_log_n_featutes(self, x):\n",
    "        defids = np.arange(x.shape[1])\n",
    "        np.random.shuffle(defids)\n",
    "        logn = int(np.log(x.shape[1]))\n",
    "        fids = np.random.choice(defids, logn)\n",
    "        return fids\n",
    "    \n",
    "    def threshold(self, x, y, fids):\n",
    "        idxsorted = np.argsort(x[:,fids], axis=0)\n",
    "        xsorted, ysorted = x[idxsorted, fids], y[idxsorted]\n",
    "        if len(ysorted.shape) == 1:\n",
    "            ysorted = ysorted[None, :]\n",
    "        if len(xsorted.shape) == 1:\n",
    "            xsorted = xsorted[None, :]\n",
    "        b_idxes = self.get_b_idx(xsorted)\n",
    "        variance = self.variance_(ysorted.T)\n",
    "        var_idx = []\n",
    "        var_no_idx = []\n",
    "        for f_idx, b_idx in enumerate(b_idxes):\n",
    "            if b_idx[0] == float('+inf'):\n",
    "                var_idx.append(0)\n",
    "                var_no_idx.append(f_idx)\n",
    "                continue\n",
    "            idx = np.argmin(variance[f_idx, b_idx])\n",
    "            var_idx.append(b_idx[idx])\n",
    "        var_idx = np.array(var_idx)\n",
    "        var_no_idx = np.array(var_no_idx)\n",
    "        min_variance = variance[np.arange(variance.shape[0]), var_idx.ravel()]\n",
    "        if var_no_idx.shape[0] > 0:\n",
    "            min_variance[var_no_idx] = float('+inf')\n",
    "        min_variance[var_idx + 1 <= self.min_samples_split] = np.float('+inf')\n",
    "        min_variance[var_idx + 1 >= ysorted.shape[0] - self.min_samples_split] = np.float('+inf')\n",
    "        thr = np.mean([xsorted[var_idx, np.arange(xsorted.shape[1])],\n",
    "                          xsorted[var_idx + 1, np.arange(xsorted.shape[1])]], axis = 0)        \n",
    "        return min_variance, thr\n",
    "\n",
    "    def is_leaf_(self, x, y, depth):\n",
    "        return x.shape[0] < 2 * self.min_samples_split + 2 or np.unique(y).shape[0] == 1 or \\\n",
    "               self.max_depth is not None and depth >= self.max_depth or \\\n",
    "            self.min_impurity is not None and \\\n",
    "                        np.mean((y - y.mean()) ** 2) < self.min_impurity\n",
    "    def fit(self, x, y):\n",
    "        if self.recursion:\n",
    "            self.fit_node_(x, y, 0, 0)\n",
    "        else:\n",
    "            self.fit_no_rec_( x, y)\n",
    "        return self\n",
    "\n",
    " \n",
    "    def fit_no_rec_(self, x, y):\n",
    "        depth = 0\n",
    "        dq = deque()\n",
    "        dq.append([x, y, 0])\n",
    "        while depth < self.max_depth and len(dq) != 0:\n",
    "            toretrieve = len(dq)\n",
    "            while toretrieve != 0 and len(dq) > 0:\n",
    "                unit = dq.pop()\n",
    "                if self.is_leaf_(unit[0], unit[1], depth):\n",
    "                    self.tree[unit[2]]= (self.LEAF, unit[1].mean())\n",
    "                    self.leaves[unit[2]] = self.leafctr\n",
    "                    self.leafctr += 1\n",
    "                    continue\n",
    "                if self.max_log:\n",
    "                    fids = self.get_log_n_featutes(unit[0])\n",
    "                else:\n",
    "                    fids = np.arange(unit[0].shape[1])\n",
    "                np.random.shuffle(fids)\n",
    "                var, thrs = self.threshold(unit[0], unit[1], fids)\n",
    "                best_var_idx = np.argmin(var)\n",
    "                best_var = var[best_var_idx]\n",
    "                best_thr = thrs[best_var_idx]\n",
    "                best_feat = fids[best_var_idx]\n",
    "                if best_var == float('+inf'):\n",
    "                    self.tree[unit[2]] = (self.LEAF,unit[1].mean())\n",
    "                    self.leaves[unit[2]] = self.leafctr\n",
    "                    self.leafctr += 1\n",
    "                    continue\n",
    "                left_x, right_x, left_y, right_y = self.divide_items_(unit[0], unit[1], best_feat, best_thr)\n",
    "                if left_x.shape[0] == 0 or right_x.shape[0] == 0:\n",
    "                    self.tree[unit[2]] = (self.LEAF,unit[1].mean())\n",
    "                    self.leaves[unit[2]] = self.leafctr\n",
    "                    self.leafctr += 1\n",
    "                    continue\n",
    "                self.tree[unit[2]] = (self.NON_LEAF, best_feat, best_thr, unit[1].mean())\n",
    "                dq.appendleft([left_x,left_y, 2 * unit[2] + 1])\n",
    "                dq.appendleft([right_x, right_y, 2 * unit[2] + 2])\n",
    "                toretrieve-=1\n",
    "            depth += 1\n",
    "        return\n",
    "        \n",
    "    def fit_node_(self, x, y, node_id, depth):\n",
    "        if self.is_leaf_(x, y, depth):\n",
    "            self.tree[node_id] = (self.LEAF,y.mean())\n",
    "            self.leaves[node_id] = self.leafctr\n",
    "            self.leafctr += 1\n",
    "            return\n",
    "        if self.max_log:\n",
    "            fids = self.get_log_n_featutes(x)\n",
    "        else:\n",
    "            fids = np.arange(x.shape[1])\n",
    "        np.random.shuffle(fids)\n",
    "        var, thrs = self.threshold(x, y, fids)\n",
    "        best_var_idx = np.argmin(var)\n",
    "        best_var = var[best_var_idx]\n",
    "        best_thr = thrs[best_var_idx]\n",
    "        best_feat = fids[best_var_idx]\n",
    "        if best_var == float('+inf'):\n",
    "            self.tree[node_id] = (self.LEAF,y.mean())\n",
    "            self.leaves[node_id] = self.leafctr\n",
    "            self.leafctr += 1\n",
    "            return\n",
    "        left_x, right_x, left_y, right_y = self.divide_items_(x, y, best_feat, best_thr)\n",
    "        if left_x.shape[0] == 0 or right_x.shape[0] == 0:\n",
    "            self.tree[node_id] = (self.LEAF,y.mean())\n",
    "            self.leaves[node_id] = self.leafctr\n",
    "            self.leafctr += 1\n",
    "            return\n",
    "        self.tree[node_id] = (self.NON_LEAF, best_feat, best_thr, y.mean())\n",
    "        self.fit_node_(left_x, left_y, 2 * node_id + 1, depth + 1)\n",
    "        self.fit_node_(right_x, right_y, 2 * node_id + 2, depth + 1)\n",
    "        return\n",
    "    def predict(self, x, forlinear = False):\n",
    "        return np.array([self.predict_value_(x, 0, forlinear) for x in x])\n",
    "\n",
    "    def predict_value_(self, x, node_id, forlinear=False):\n",
    "        node = self.tree[node_id]\n",
    "        if node[0] == self.__class__.NON_LEAF:\n",
    "            if x[node[1]] > node[2]:\n",
    "                return self.predict_value_(x, 2 * node_id + 1, forlinear)\n",
    "            else:\n",
    "                return self.predict_value_(x, 2 * node_id + 2, forlinear)\n",
    "        else:\n",
    "            if forlinear:\n",
    "                return node[1], node_id\n",
    "            else: \n",
    "                return node[1]"
   ]
  },
  {
   "cell_type": "code",
   "execution_count": 98,
   "metadata": {},
   "outputs": [
    {
     "name": "stdout",
     "output_type": "stream",
     "text": [
      "{0: ('NON_LEAF', 225, 0.014134500000000001, 1.0375999276041665), 1: ('NON_LEAF', 42, 0.0012850000000000001, 1.539979479768786), 3: ('NON_LEAF', 9, 0.33784250000000005, 1.792280415800416), 7: ('LEAF', 2.664926551724138), 8: ('LEAF', 1.7362920575221241), 4: ('NON_LEAF', 139, 0.009232, 1.2239462760416668), 9: ('LEAF', 1.4922553703703705), 10: ('LEAF', 1.0281531531531531), 2: ('NON_LEAF', 10, 0.47704349999999995, 0.8219382339950372), 5: ('NON_LEAF', 190, 0.091901, 0.935831603386519), 11: ('LEAF', 1.4154088377358491), 12: ('LEAF', 0.890540096935139), 6: ('NON_LEAF', 161, 0.2723325, 0.4572181741397289), 13: ('LEAF', 0.64801588), 14: ('LEAF', 0.34756432019704436)}\n",
      "CPU times: user 2.71 s, sys: 143 ms, total: 2.85 s\n",
      "Wall time: 797 ms\n"
     ]
    },
    {
     "data": {
      "text/plain": [
       "0.8780913310948587"
      ]
     },
     "execution_count": 98,
     "metadata": {},
     "output_type": "execute_result"
    }
   ],
   "source": [
    "%%time\n",
    "tree = MyDecisionTreeRegressor(max_log = False)\n",
    "tree.fit(x_train_bst, y_train_bst)\n",
    "prd = tree.predict(x_test, forlinear = True)\n",
    "mse = mean_squared_error(y_test, prd[:,0])\n",
    "print(tree.tree)\n",
    "mse"
   ]
  },
  {
   "cell_type": "code",
   "execution_count": 43,
   "metadata": {},
   "outputs": [
    {
     "data": {
      "text/plain": [
       "{3: 0, 4: 1, 5: 2, 6: 3}"
      ]
     },
     "execution_count": 43,
     "metadata": {},
     "output_type": "execute_result"
    }
   ],
   "source": [
    "tree.leaves"
   ]
  },
  {
   "cell_type": "code",
   "execution_count": 44,
   "metadata": {},
   "outputs": [
    {
     "name": "stdout",
     "output_type": "stream",
     "text": [
      "CPU times: user 134 ms, sys: 48 µs, total: 134 ms\n",
      "Wall time: 132 ms\n"
     ]
    },
    {
     "data": {
      "text/plain": [
       "0.8782861182792046"
      ]
     },
     "execution_count": 44,
     "metadata": {},
     "output_type": "execute_result"
    }
   ],
   "source": [
    "%%time\n",
    "stree = DecisionTreeRegressor(min_samples_split=3, max_depth=3)\n",
    "stree.fit(x_train_bst, y_train_bst)\n",
    "mse = mean_squared_error(y_test, stree.predict(x_test))\n",
    "mse\n"
   ]
  },
  {
   "cell_type": "code",
   "execution_count": 143,
   "metadata": {},
   "outputs": [],
   "source": [
    "class MyMeanEstimator:\n",
    "    def __init():\n",
    "        pass\n",
    "\n",
    "    def fit(self, X, y):\n",
    "        self.leaves = {}\n",
    "        self.tmp = np.mean(y)\n",
    "        self.leaves[0] = 0\n",
    "    def predict(self, X, forlinear = False):\n",
    "        \n",
    "        if forlinear:\n",
    "            return [[self.tmp,0] for i in range(X.shape[0])]\n",
    "        \n",
    "        \n",
    "        pred = [self.tmp for i in range(X.shape[0])]\n",
    "        \n",
    "        return np.array(pred)"
   ]
  },
  {
   "cell_type": "code",
   "execution_count": 149,
   "metadata": {},
   "outputs": [],
   "source": [
    "class MyBoosting:\n",
    "    def __init__(self, min_max_depth = 3, max_max_depth = 5, n_estimators = 100,\n",
    "                 estimator = MyDecisionTreeRegressor, forlinear = False, recursion = False,\n",
    "                 min_samples_split = 2, min_impurity = 0, lr = 0.1, max_log = False):\n",
    "        self.min_max_depth = min_max_depth\n",
    "        self.max_max_depth = max_max_depth\n",
    "        self.n_estimators = n_estimators\n",
    "        self.estimator = estimator\n",
    "        self.min_samples_split = min_samples_split\n",
    "        self.lr = lr\n",
    "        self.min_impurity = min_impurity\n",
    "        self.forlinear = forlinear\n",
    "        self.max_log = max_log\n",
    "        self.recursion  = recursion\n",
    "    \n",
    "    def fit(self, X, y):\n",
    "        self.est = [None] * self.n_estimators\n",
    "        self.b = np.zeros(self.n_estimators)\n",
    "        self.est[0] = MyMeanEstimator()\n",
    "        self.b[0] = 1.0\n",
    "        self.est[0].fit(X,y)\n",
    "        pred = self.est[0].predict(X)\n",
    "        self.trainerr = []\n",
    "        self.trainerr.append(mean_squared_error(y,pred))\n",
    "        depth = self.min_max_depth\n",
    "        for i in range(1,self.n_estimators):\n",
    "            grad = -2.0 * (pred - y)\n",
    "            self.est[i] = self.estimator(min_samples_split = self.min_samples_split, max_depth = depth,\n",
    "                                          min_impurity = self.min_impurity)\n",
    "            self.est[i].fit(X,grad)\n",
    "            local_pred = self.est[i].predict(X)\n",
    "            err = y - pred\n",
    "            self.b[i] = self.lr * (local_pred * err).sum() / ((local_pred**2).sum())\n",
    "            pred = pred + self.b[i] * local_pred\n",
    "            self.trainerr.append(mean_squared_error(y,pred))\n",
    "        return self\n",
    "    \n",
    "    def predict(self, X, y = None):\n",
    "        if not self.forlinear:\n",
    "            self.testerr = []\n",
    "            pred = self.est[0].predict(X)\n",
    "            if y is not None:\n",
    "                self.testerr.append(mean_squared_error(y,pred))\n",
    "            for i in range(1, self.n_estimators):\n",
    "                pred = pred + self.b[i] * self.est[i].predict(X)\n",
    "                if y is not None:\n",
    "                    self.testerr.append(mean_squared_error(y,pred))\n",
    "            return np.array(pred)\n",
    "        else:\n",
    "            if y is None:\n",
    "                self.nfeats = [None] * self.n_estimators\n",
    "                for i in range(self.n_estimators):\n",
    "                    pred = self.est[i].predict(X, forlinear = True)\n",
    "                    self.nfeats[i] = np.zeros((len(X),len(self.est[i].leaves))) \n",
    "                    for ex,pr in enumerate(pred):\n",
    "                        self.nfeats[i][ex][self.est[i].leaves[int(pr[1])]] = self.b[i] * pr[0] \n",
    "                return self.nfeats\n",
    "            else:\n",
    "                return None\n",
    "        "
   ]
  },
  {
   "cell_type": "code",
   "execution_count": 163,
   "metadata": {
    "scrolled": true
   },
   "outputs": [
    {
     "name": "stdout",
     "output_type": "stream",
     "text": [
      "CPU times: user 1h 10min 59s, sys: 4min 22s, total: 1h 15min 21s\n",
      "Wall time: 19min 36s\n"
     ]
    },
    {
     "data": {
      "text/plain": [
       "0.815776888488387"
      ]
     },
     "execution_count": 163,
     "metadata": {},
     "output_type": "execute_result"
    }
   ],
   "source": [
    "%%time\n",
    "my_model = MyBoosting(forlinear = False, max_log = False, n_estimators=1000)\n",
    "my_model.fit(x_train_bst, y_train_bst)\n",
    "#my_model.predict(x_test)\n",
    "mse = mean_squared_error(y_test, my_model.predict(x_test, y_test))\n",
    "mse"
   ]
  },
  {
   "cell_type": "code",
   "execution_count": 170,
   "metadata": {},
   "outputs": [],
   "source": [
    "class MyLinReg:\n",
    "    def __init__(self, lr = 0.0001, max_epoch = 1000):\n",
    "        self.lr = lr\n",
    "        self.max_epoch = max_epoch\n",
    "            \n",
    "    def fit(self, X, y):\n",
    "        self.coef = np.random.random(X.shape[1]).reshape(X.shape[1],1)\n",
    "        for epoch in range(self.max_epoch):\n",
    "            grad = -2.0 * np.mean(np.dot(X, self.coef) - y)\n",
    "            self.coef += self.lr * (grad - 2*self.coef)\n",
    "            #print(self.coef)\n",
    "    def predict(self, X):\n",
    "        return np.dot(X, self.coef)"
   ]
  },
  {
   "cell_type": "code",
   "execution_count": 171,
   "metadata": {},
   "outputs": [],
   "source": [
    "class LinOverBoost:\n",
    "    def __init__(self, boosting = MyBoosting, linear = MyLinReg,\n",
    "                 min_max_depth = 3, max_max_depth = 5, n_estimators = 100,\n",
    "                 estimator = MyDecisionTreeRegressor, forlinear = False, recursion = False,\n",
    "                 min_samples_split = 2, min_impurity = 0.01, lr = 0.1, max_log = False):\n",
    "        self.boosting = boosting\n",
    "        self.linear = linear\n",
    "        self.min_max_depth = min_max_depth\n",
    "        self.max_max_depth = max_max_depth\n",
    "        self.n_estimators = n_estimators\n",
    "        self.estimator = estimator\n",
    "        self.min_samples_split = min_samples_split\n",
    "        self.lr = lr\n",
    "        self.min_impurity = min_impurity\n",
    "        self.forlinear = forlinear\n",
    "        self.max_log = max_log\n",
    "        self.recursion = recursion\n",
    "    def fit(self, X, y):\n",
    "        self.bst = self.boosting(forlinear = True, n_estimators = self.n_estimators, recursion = self.recursion,\n",
    "                                max_log = self.max_log, estimator = self.estimator, lr = self.lr, \n",
    "                                min_max_depth = self.min_max_depth, min_samples_split = self.min_samples_split,\n",
    "                                min_impurity = self.min_impurity)\n",
    "        self.lin = self.linear()\n",
    "        x_train_bst, x_train_lin, y_train_bst, y_train_lin = train_test_split(X, y, test_size = 0.2, random_state = 13)\n",
    "        self.bst.fit(x_train_bst, y_train_bst)\n",
    "        preds = self.bst.predict(x_train_lin)\n",
    "        new_features = preds[0]\n",
    "        for i in range(1,self.n_estimators):\n",
    "            new_features = np.hstack((new_features, preds[i]))\n",
    "        #print(new_features.shape)\n",
    "        self.lin.fit(new_features, y_train_lin)\n",
    "        #print(mean_squared_error(self.lin.predict(new_features), y_train_lin))\n",
    "    def predict(self, X):\n",
    "        preds = self.bst.predict(X)\n",
    "        new_features = preds[0]\n",
    "        for i in range(1,self.n_estimators):\n",
    "            new_features = np.hstack((new_features, preds[i]))\n",
    "        return self.lin.predict(new_features)"
   ]
  },
  {
   "cell_type": "code",
   "execution_count": 172,
   "metadata": {},
   "outputs": [
    {
     "name": "stdout",
     "output_type": "stream",
     "text": [
      "CPU times: user 10min 49s, sys: 31.2 s, total: 11min 21s\n",
      "Wall time: 2min 53s\n"
     ]
    }
   ],
   "source": [
    "%%time \n",
    "lob = LinOverBoost(recursion = False, max_log = False, n_estimators=100)\n",
    "lob.fit(x_train,y_train)"
   ]
  },
  {
   "cell_type": "code",
   "execution_count": 173,
   "metadata": {},
   "outputs": [
    {
     "data": {
      "text/plain": [
       "1.172090447475121"
      ]
     },
     "execution_count": 173,
     "metadata": {},
     "output_type": "execute_result"
    }
   ],
   "source": [
    "mean_squared_error(y_test, lob.predict(x_test))"
   ]
  },
  {
   "cell_type": "code",
   "execution_count": 164,
   "metadata": {},
   "outputs": [
    {
     "name": "stdout",
     "output_type": "stream",
     "text": [
      "CPU times: user 1min 1s, sys: 51 ms, total: 1min 1s\n",
      "Wall time: 1min 1s\n"
     ]
    },
    {
     "data": {
      "text/plain": [
       "0.8152884943197887"
      ]
     },
     "execution_count": 164,
     "metadata": {},
     "output_type": "execute_result"
    }
   ],
   "source": [
    "%%time\n",
    "base_model = GradientBoostingRegressor(n_estimators=1000, max_depth=3, learning_rate = 0.1)\n",
    "base_model.fit(x_train_bst, y_train_bst)\n",
    "mse = mean_squared_error(y_test, base_model.predict(x_test))\n",
    "mse"
   ]
  },
  {
   "cell_type": "code",
   "execution_count": 166,
   "metadata": {},
   "outputs": [
    {
     "data": {
      "text/plain": [
       "[]"
      ]
     },
     "execution_count": 166,
     "metadata": {},
     "output_type": "execute_result"
    },
    {
     "data": {
      "image/png": "[encoded data removed]",
      "text/plain": [
       "<Figure size 720x432 with 1 Axes>"
      ]
     },
     "metadata": {
      "needs_background": "light"
     },
     "output_type": "display_data"
    }
   ],
   "source": [
    "import matplotlib.pyplot as plt\n",
    "n_est = 1000\n",
    "base_test_score = np.zeros((n_est,), dtype=np.float64)\n",
    "for i, y_pred in enumerate(base_model.staged_predict(x_test)):\n",
    "    base_test_score[i] = base_model.loss_(y_test, y_pred)\n",
    "\n",
    "plt.figure(figsize=(10, 6))\n",
    "plt.plot(np.arange(n_est) + 1, base_model.train_score_, 'm-', label='sklearn train')\n",
    "plt.plot(np.arange(n_est) + 1, base_test_score, 'r-', label='sklearn test')\n",
    "plt.plot(np.arange(n_est) + 1, my_model.trainerr, 'c-', label='my train')\n",
    "plt.plot(np.arange(n_est) + 1, my_model.testerr, 'g-', label='my test')\n",
    "plt.legend()\n",
    "plt.plot([x * 1.03 for x in base_model.train_score_], 'm-', linestyle='--')\n",
    "plt.plot([x * 0.97 for x in base_model.train_score_], 'm-', linestyle='--')\n",
    "plt.plot([x * 1.03 for x in base_test_score], 'r-', linestyle='--')\n",
    "plt.plot([x * 0.97 for x in base_test_score], 'r-', linestyle='--')\n",
    "plt.plot()"
   ]
  },
  {
   "cell_type": "code",
   "execution_count": null,
   "metadata": {},
   "outputs": [],
   "source": []
  },
  {
   "cell_type": "code",
   "execution_count": null,
   "metadata": {},
   "outputs": [],
   "source": []
  }
 ],
 "metadata": {
  "kernelspec": {
   "display_name": "Python 3",
   "language": "python",
   "name": "python3"
  },
  "language_info": {
   "codemirror_mode": {
    "name": "ipython",
    "version": 3
   },
   "file_extension": ".py",
   "mimetype": "text/x-python",
   "name": "python",
   "nbconvert_exporter": "python",
   "pygments_lexer": "ipython3",
   "version": "3.7.5"
  }
 },
 "nbformat": 4,
 "nbformat_minor": 2
}
